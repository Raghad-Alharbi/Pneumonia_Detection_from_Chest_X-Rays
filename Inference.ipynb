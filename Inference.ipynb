{
 "cells": [
  {
   "cell_type": "markdown",
   "metadata": {},
   "source": [
    "<img src=\"https://1onjea25cyhx3uvxgs4vu325-wpengine.netdna-ssl.com/wp-content/themes/udacity_wp_1_8/images/Udacity_Logo_SVG_200x35.svg\" style=\" margin: 30px; height: 30px\">\n",
    "\n",
    "\n",
    "\n",
    "# Pneumonia Detection from Chest X-Rays\n",
    "\n",
    "<img src=\"https://miro.medium.com/max/1400/1*rZ8wn3AO4CtzW_DGSQJjPg.png\" style=\"height: 250px; width: 1000px\">\n",
    "\n",
    "### AI for Healthcare Nanodegree Program\n",
    "**Project 1**\n",
    "\n",
    "**Name**: Raghad Alharbi\n",
    "\n",
    "**LinkedIn**: [Raghad-Alharbi](https://www.linkedin.com/in/raghad-alharbi/)\n",
    "\n",
    "---\n",
    "### Inference"
   ]
  },
  {
   "cell_type": "code",
   "execution_count": 1,
   "metadata": {},
   "outputs": [
    {
     "name": "stderr",
     "output_type": "stream",
     "text": [
      "Using TensorFlow backend.\n"
     ]
    }
   ],
   "source": [
    "import numpy as np\n",
    "import pandas as pd\n",
    "import pydicom\n",
    "%matplotlib inline\n",
    "import matplotlib.pyplot as plt\n",
    "import keras \n",
    "import glob\n",
    "from skimage.transform import resize"
   ]
  },
  {
   "cell_type": "code",
   "execution_count": 2,
   "metadata": {},
   "outputs": [
    {
     "name": "stdout",
     "output_type": "stream",
     "text": [
      "Number of DICOM Files:  6\n"
     ]
    }
   ],
   "source": [
    "mydicoms = glob.glob(\"*.dcm\")\n",
    "print('Number of DICOM Files: ',len(mydicoms))"
   ]
  },
  {
   "cell_type": "code",
   "execution_count": 3,
   "metadata": {},
   "outputs": [
    {
     "name": "stdout",
     "output_type": "stream",
     "text": [
      "An over view of one of the DICOM files:\n"
     ]
    },
    {
     "data": {
      "text/plain": [
       "(0008, 0016) SOP Class UID                       UI: Secondary Capture Image Storage\n",
       "(0008, 0018) SOP Instance UID                    UI: 1.3.6.1.4.1.11129.5.5.110503645592756492463169821050252582267888\n",
       "(0008, 0060) Modality                            CS: 'CT'\n",
       "(0008, 1030) Study Description                   LO: 'No Finding'\n",
       "(0010, 0020) Patient ID                          LO: '2'\n",
       "(0010, 0040) Patient's Sex                       CS: 'M'\n",
       "(0010, 1010) Patient's Age                       AS: '81'\n",
       "(0018, 0015) Body Part Examined                  CS: 'CHEST'\n",
       "(0018, 5100) Patient Position                    CS: 'PA'\n",
       "(0020, 000d) Study Instance UID                  UI: 1.3.6.1.4.1.11129.5.5.112507010803284478207522016832191866964708\n",
       "(0020, 000e) Series Instance UID                 UI: 1.3.6.1.4.1.11129.5.5.112630850362182468372440828755218293352329\n",
       "(0028, 0002) Samples per Pixel                   US: 1\n",
       "(0028, 0004) Photometric Interpretation          CS: 'MONOCHROME2'\n",
       "(0028, 0010) Rows                                US: 1024\n",
       "(0028, 0011) Columns                             US: 1024\n",
       "(0028, 0100) Bits Allocated                      US: 8\n",
       "(0028, 0101) Bits Stored                         US: 8\n",
       "(0028, 0102) High Bit                            US: 7\n",
       "(0028, 0103) Pixel Representation                US: 0\n",
       "(7fe0, 0010) Pixel Data                          OW: Array of 1048576 elements"
      ]
     },
     "execution_count": 3,
     "metadata": {},
     "output_type": "execute_result"
    }
   ],
   "source": [
    "print('An over view of one of the DICOM files:')\n",
    "dcm1 = pydicom.dcmread(mydicoms[0])\n",
    "dcm1"
   ]
  },
  {
   "cell_type": "code",
   "execution_count": 4,
   "metadata": {},
   "outputs": [],
   "source": [
    "# This function reads in a .dcm file, checks the important fields for our device, and returns a numpy array\n",
    "# of just the imaging data\n",
    "def check_dicom(filename): \n",
    "    # todo\n",
    "    print('Load file {} ...'.format(filename))\n",
    "    ds = pydicom.dcmread(filename)       \n",
    "    img = ds.pixel_array\n",
    "    \n",
    "    # we trained the model on X-ray images\n",
    "    if ds.Modality != 'DX':\n",
    "        print('Error: The examind image should be a Digital X-ray, and the provided image Modality is', ds.Modality);print()\n",
    "        return None\n",
    "    \n",
    "    # we trained the model on only ages up to 100. \n",
    "    if int(ds.PatientAge) > 100:\n",
    "        print('Error: The age of the patient should be a less than 100, and the provided DICOM is for age', ds.PatientAge);print()\n",
    "        return None\n",
    "    \n",
    "    # we trained  the model on chest images\n",
    "    if ds.BodyPartExamined != 'CHEST':\n",
    "        print('Error: The examind image should be for a CHEST, and the provided image is for ', ds.BodyPartExamined);print()\n",
    "        return None\n",
    "    \n",
    "    # we trained the model on AP and PA positions\n",
    "    if ds.PatientPosition not in ['AP', 'PA']:\n",
    "        print(\"Error: The patient position should be either 'AP' or 'PA', and the provided DICOM with a patient position of\", ds.PatientPosition);print()\n",
    "        return None\n",
    "    \n",
    "    return img\n",
    "      \n",
    "# This function takes the numpy array output by check_dicom and \n",
    "# runs the appropriate pre-processing needed for our model input\n",
    "def preprocess_image(img,img_mean,img_std,img_size): \n",
    "    # todo\n",
    "    proc_img = (img-img_mean) / img_std\n",
    "    proc_img = resize(proc_img, img_size)\n",
    "    \n",
    "    return proc_img\n",
    "    \n",
    "# This function loads in our trained model w/ weights and compiles it \n",
    "def load_model(model_path, weight_path):\n",
    "    # todo\n",
    "    with open(model_path, 'r') as json_file:\n",
    "        model_file = json_file.read()\n",
    "        model = keras.models.model_from_json(model_file)\n",
    "        model.load_weights(weight_path)  \n",
    "        \n",
    "    return model\n",
    "\n",
    "# This function uses our device's threshold parameters to predict whether or not\n",
    "# the image shows the presence of pneumonia using our trained model\n",
    "def predict_image(model, img, thresh): \n",
    "    # todo \n",
    "    prediction = np.where(model.predict(img) > thresh, 'Pneumonia', 'No_Pneumonia')\n",
    "    \n",
    "    return prediction "
   ]
  },
  {
   "cell_type": "code",
   "execution_count": 6,
   "metadata": {},
   "outputs": [
    {
     "name": "stdout",
     "output_type": "stream",
     "text": [
      "Load file test1.dcm ...\n",
      "[['Pneumonia']]\n",
      "\n",
      "Load file test2.dcm ...\n",
      "[['Pneumonia']]\n",
      "\n",
      "Load file test3.dcm ...\n",
      "[['Pneumonia']]\n",
      "\n",
      "Load file test4.dcm ...\n",
      "Error: The examind image should be for a CHEST, and the provided image is for  RIBCAGE\n",
      "\n",
      "Load file test5.dcm ...\n",
      "Error: The examind image should be a Digital X-ray, and the provided image Modality is CT\n",
      "\n",
      "Load file test6.dcm ...\n",
      "Error: The patient position should be either 'AP' or 'PA', and the provided DICOM with a patient position of XX\n",
      "\n"
     ]
    }
   ],
   "source": [
    "test_dicoms = ['test1.dcm','test2.dcm','test3.dcm','test4.dcm','test5.dcm','test6.dcm']\n",
    "\n",
    "model_path = \"./my_model.json\"\n",
    "weight_path = \"./xray_class_my_model.best.hdf5\" \n",
    "\n",
    "IMG_SIZE= (1,224,224,3) # This might be different if you did not use vgg16\n",
    "img_mean = 0 # loads the mean image value they used during training preprocessing\n",
    "img_std = 255 # loads the std dev image value they used during training preprocessing\n",
    "\n",
    "my_model = load_model(model_path, weight_path)\n",
    "thresh = 0.41005385 #loads the threshold they chose for model classification \n",
    "\n",
    "# use the .dcm files to test your prediction\n",
    "for i in test_dicoms:\n",
    "    \n",
    "    img = np.array([])\n",
    "    img = check_dicom(i)\n",
    "    \n",
    "    if img is None:\n",
    "        continue\n",
    "        \n",
    "    img_proc = preprocess_image(img,img_mean,img_std,IMG_SIZE)\n",
    "    pred = predict_image(my_model,img_proc,thresh)\n",
    "    print(pred);print()"
   ]
  },
  {
   "cell_type": "code",
   "execution_count": null,
   "metadata": {},
   "outputs": [],
   "source": []
  }
 ],
 "metadata": {
  "kernelspec": {
   "display_name": "Python 3",
   "language": "python",
   "name": "python3"
  },
  "language_info": {
   "codemirror_mode": {
    "name": "ipython",
    "version": 3
   },
   "file_extension": ".py",
   "mimetype": "text/x-python",
   "name": "python",
   "nbconvert_exporter": "python",
   "pygments_lexer": "ipython3",
   "version": "3.7.6"
  }
 },
 "nbformat": 4,
 "nbformat_minor": 2
}
